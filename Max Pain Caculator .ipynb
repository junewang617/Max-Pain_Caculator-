{
 "cells": [
  {
   "cell_type": "markdown",
   "metadata": {},
   "source": [
    "# Overview - Max Pain Theory\n"
   ]
  },
  {
   "cell_type": "markdown",
   "metadata": {},
   "source": [
    "The Maximum Pain theory states that an option's price will gravitate towards a max pain price, in some cases equal to the strike price for an option, that causes the maximum number of options to expire worthless."
   ]
  },
  {
   "cell_type": "markdown",
   "metadata": {},
   "source": [
    "## Calculating the Max Pain Point\n"
   ]
  },
  {
   "cell_type": "markdown",
   "metadata": {},
   "source": [
    "For each in-the-money strike price for both puts and calls:\n",
    "\n",
    "1.Find the difference between stock price and strike price\n",
    "    2.Multiply the result by open interest at that strike\n",
    "    3.Add together the dollar value for the put and call at that strike\n",
    "    4.Repeat for each strike price\n",
    "    Find the highest value strike price. This price is equivalent to max pain price."
   ]
  },
  {
   "cell_type": "code",
   "execution_count": 1,
   "metadata": {},
   "outputs": [],
   "source": [
    "import pandas as pd\n",
    "import yfinance as yf\n",
    "import datetime\n",
    "import matplotlib.pyplot as plt"
   ]
  },
  {
   "cell_type": "code",
   "execution_count": 3,
   "metadata": {},
   "outputs": [],
   "source": [
    "## Get's the option chain for a given symbol and expiry date and add it to panda df\n",
    "\n",
    "def options_chain(tk, expiry):\n",
    "    '''\n",
    "    Get's the option chain for a given symbol and expiry date and add it to panda df\n",
    "    Credit: https://medium.com/@txlian13/webscrapping-options-data-with-python-and-yfinance-e4deb0124613\n",
    "    '''\n",
    "    # Get options exp\n",
    "    options = pd.DataFrame()\n",
    "    opt = tk.option_chain(expiry.strip())\n",
    "    opt = pd.DataFrame().append(opt.calls).append(opt.puts)\n",
    "    opt['expirationDate'] = expiry\n",
    "    options = options.append(opt, ignore_index=True)\n",
    "    \n",
    "    # Add 1 day to get the correct expiration date\n",
    "    options['expirationDate'] = pd.to_datetime(options['expirationDate']) + datetime.timedelta(days = 1)\n",
    "    options['dte'] = (options['expirationDate'] - datetime.datetime.today()).dt.days / 365\n",
    "    \n",
    "    # Boolean column if the option is a CALL\n",
    "    options['CALL'] = options['contractSymbol'].str[4:].apply(\n",
    "        lambda x: \"C\" in x)\n",
    "    \n",
    "    options[['bid', 'ask', 'strike']] = options[['bid', 'ask', 'strike']].apply(pd.to_numeric)\n",
    "    \n",
    "    # Drop unnecessary and meaningless columns\n",
    "    options = options.drop(columns = ['contractSize', 'currency', 'change', 'percentChange', 'lastTradeDate', 'lastPrice', 'contractSymbol', 'bid', 'ask', 'impliedVolatility', 'inTheMoney', 'dte'])\n",
    "    \n",
    "    return options\n"
   ]
  },
  {
   "cell_type": "code",
   "execution_count": 4,
   "metadata": {},
   "outputs": [],
   "source": [
    "def total_loss_on_strike(chain, expiry_price):\n",
    "    '''\n",
    "    Get's the total loss at the given strike price\n",
    "    '''    \n",
    "    # call options with strike price below the expiry price -> loss for option writers\n",
    "    callChain = chain.loc[chain['CALL'] == True]\n",
    "    callChain = callChain.dropna()       \n",
    "    in_money_calls = callChain[callChain['strike'] < expiry_price][[\"openInterest\", \"strike\"]]\n",
    "    in_money_calls[\"CLoss\"] = (expiry_price - in_money_calls['strike'])*in_money_calls[\"openInterest\"]\n",
    "\n",
    "    # get puts n drop null values\n",
    "    putChain = chain.loc[chain['CALL'] == False]\n",
    "    putChain = putChain.dropna()    \n",
    "    \n",
    "    # put options with strike price above the expiry price -> loss for option writers\n",
    "    in_money_puts = putChain[putChain['strike'] > expiry_price][[\"openInterest\", \"strike\"]]\n",
    "    in_money_puts[\"PLoss\"] = (in_money_puts['strike'] - expiry_price)*in_money_puts[\"openInterest\"]\n",
    "    total_loss = in_money_calls[\"CLoss\"].sum() + in_money_puts[\"PLoss\"].sum()\n",
    "\n",
    "    return total_loss"
   ]
  },
  {
   "cell_type": "code",
   "execution_count": 5,
   "metadata": {},
   "outputs": [],
   "source": [
    "def getInput():\n",
    "    '''\n",
    "    gets the user input on symbol and expiry\n",
    "    '''\n",
    "    symbol = input(\"Enter the Symbol: \" )\n",
    "    \n",
    "    tk = yf.Ticker(symbol)\n",
    "    # Expiration dates\n",
    "    exps = tk.options   \n",
    "    print(\"Expiry dates:\")        \n",
    "    for i in exps:\n",
    "        print(f\"{i}\", end=\", \")\n",
    "  \n",
    "    \n",
    "    expiry = input(\"\\nEnter the Expiry data [format: YYYY-MM-DD]: \" )\n",
    "    return tk, expiry, symbol\n"
   ]
  },
  {
   "cell_type": "code",
   "execution_count": 6,
   "metadata": {},
   "outputs": [
    {
     "name": "stdout",
     "output_type": "stream",
     "text": [
      "Enter the Symbol: AAPL\n",
      "Expiry dates:\n",
      "2022-06-10, 2022-06-17, 2022-06-24, 2022-07-01, 2022-07-08, 2022-07-15, 2022-07-22, 2022-08-19, 2022-09-16, 2022-10-21, 2022-11-18, 2022-12-16, 2023-01-20, 2023-03-17, 2023-06-16, 2023-09-15, 2024-01-19, 2024-06-21, \n",
      "Enter the Expiry data [format: YYYY-MM-DD]: 2022-06-10\n",
      "Maximum Pain: 142.59 < 147.0 < 151.41\n",
      "Put to call ratio: 0.64\n"
     ]
    },
    {
     "data": {
      "image/png": "[encoded data removed]",
      "text/plain": [
       "<Figure size 432x288 with 1 Axes>"
      ]
     },
     "metadata": {
      "needs_background": "light"
     },
     "output_type": "display_data"
    }
   ],
   "source": [
    "def main():\n",
    "    '''\n",
    "    Get's the symbol and expiry date n plot the data\n",
    "    '''\n",
    "    # gets the user input on symbol and expiry\n",
    "    tk, expiry, symbol = getInput()\n",
    "    chain = options_chain(tk, expiry)\n",
    "    \n",
    "    strikes = chain.get(['strike']).values.tolist()\n",
    "    losses = [total_loss_on_strike(chain, strike[0]) for strike in strikes] \n",
    "    \n",
    "    # max pain min loss to option writers/sellers at strike price\n",
    "    flat_strikes = [item for sublist in strikes for item in sublist]\n",
    "    point = losses.index(min(losses))\n",
    "    max_pain = flat_strikes[point]\n",
    "    buffer = 3\n",
    "    bufferHigh = max_pain + (max_pain * (buffer/100))\n",
    "    bufferLow = max_pain - (max_pain * (buffer/100))\n",
    "    print(f\"Maximum Pain: {bufferLow} < {max_pain} < {bufferHigh}\")\n",
    "    \n",
    "    # calc put to call ratio\n",
    "    callChain = chain.loc[chain['CALL'] == True]\n",
    "    putChain = chain.loc[chain['CALL'] == False]\n",
    "    pcr = putChain[\"volume\"].sum() / callChain[\"volume\"].sum()\n",
    "    print(\"Put to call ratio:\", round(pcr,2))\n",
    "    \n",
    "    # get the cummulated losses\n",
    "    total = {}\n",
    "    for i in range(len(flat_strikes)):\n",
    "        if flat_strikes[i] not in total: total[flat_strikes[i]] = losses[i]\n",
    "        else: total[flat_strikes[i]] += losses[i]\n",
    "            \n",
    "    \n",
    "    # plot\n",
    "    keys = set(list(total.keys()))\n",
    "    plt.bar(list(keys), list(total.values()), width=1)\n",
    "    plt.xlabel('Strike Price')\n",
    "    plt.title(f'{symbol.upper()} Max Pain')    \n",
    "\n",
    "\n",
    "if __name__ == \"__main__\":\n",
    "    main()"
   ]
  },
  {
   "cell_type": "code",
   "execution_count": null,
   "metadata": {},
   "outputs": [],
   "source": []
  },
  {
   "cell_type": "code",
   "execution_count": null,
   "metadata": {},
   "outputs": [],
   "source": []
  }
 ],
 "metadata": {
  "kernelspec": {
   "display_name": "Python 3",
   "language": "python",
   "name": "python3"
  },
  "language_info": {
   "codemirror_mode": {
    "name": "ipython",
    "version": 3
   },
   "file_extension": ".py",
   "mimetype": "text/x-python",
   "name": "python",
   "nbconvert_exporter": "python",
   "pygments_lexer": "ipython3",
   "version": "3.8.3"
  }
 },
 "nbformat": 4,
 "nbformat_minor": 4
}
